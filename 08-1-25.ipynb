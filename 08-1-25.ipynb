{
 "cells": [
  {
   "cell_type": "markdown",
   "id": "3af5300d-da2e-47c4-bcdd-840bde6cc405",
   "metadata": {},
   "source": [
    "#### Conventional if-else"
   ]
  },
  {
   "cell_type": "code",
   "execution_count": 1,
   "id": "ae1eee37-0027-4d51-9b2d-920a25bedaab",
   "metadata": {},
   "outputs": [
    {
     "name": "stdout",
     "output_type": "stream",
     "text": [
      "even\n"
     ]
    }
   ],
   "source": [
    "num=6\n",
    "if num%2==0:\n",
    "    print(\"even\")\n",
    "else:\n",
    "    print(\"odd\")"
   ]
  },
  {
   "cell_type": "code",
   "execution_count": 3,
   "id": "d9046835-f8b1-4146-a15d-409c878b2931",
   "metadata": {},
   "outputs": [
    {
     "name": "stdout",
     "output_type": "stream",
     "text": [
      "even\n"
     ]
    }
   ],
   "source": [
    "num=6\n",
    "print(\"even\") if num%2==0 else print(\"odd\")"
   ]
  },
  {
   "cell_type": "code",
   "execution_count": 5,
   "id": "ca4de9dc-88ab-447a-98ab-0b754df5fba4",
   "metadata": {},
   "outputs": [
    {
     "name": "stdout",
     "output_type": "stream",
     "text": [
      "positive\n"
     ]
    }
   ],
   "source": [
    "x=10\n",
    "print(\"positive\") if x>0 else print(\"negative\")"
   ]
  },
  {
   "cell_type": "code",
   "execution_count": 7,
   "id": "b422e708-2cea-4fd2-87fc-b96a3130e654",
   "metadata": {},
   "outputs": [
    {
     "name": "stdout",
     "output_type": "stream",
     "text": [
      "Adult\n"
     ]
    }
   ],
   "source": [
    "age=18\n",
    "category=\"Adult\" if age>=18 else \"Minor\"\n",
    "print(category)"
   ]
  },
  {
   "cell_type": "code",
   "execution_count": 9,
   "id": "273f7b8b-aac2-4c72-8ea9-1b5c90a30c83",
   "metadata": {},
   "outputs": [
    {
     "name": "stdin",
     "output_type": "stream",
     "text": [
      "Enter a number:  10\n"
     ]
    },
    {
     "name": "stdout",
     "output_type": "stream",
     "text": [
      "Positive\n"
     ]
    }
   ],
   "source": [
    "num=int(input(\"Enter a number: \"))\n",
    "result=\"Positive\" if num>0 else (\"Negative\" if num<0 else \"Zero\")\n",
    "print(result)"
   ]
  },
  {
   "cell_type": "code",
   "execution_count": 11,
   "id": "700ab75e-40ea-4fe5-a55f-89149936758c",
   "metadata": {},
   "outputs": [
    {
     "name": "stdin",
     "output_type": "stream",
     "text": [
      "Enter a number:  0\n"
     ]
    },
    {
     "name": "stdout",
     "output_type": "stream",
     "text": [
      "Zero\n"
     ]
    }
   ],
   "source": [
    "num=int(input(\"Enter a number: \"))\n",
    "result=\"Positive\" if num>0 else (\"Negative\" if num<0 else \"Zero\")\n",
    "print(result)"
   ]
  },
  {
   "cell_type": "markdown",
   "id": "970f4f39-548c-42d0-989a-5af7e01fe564",
   "metadata": {},
   "source": [
    "#### List Comprehension"
   ]
  },
  {
   "cell_type": "code",
   "execution_count": 13,
   "id": "00f9913c-bf94-4c78-8abe-354200699528",
   "metadata": {},
   "outputs": [
    {
     "data": {
      "text/plain": [
       "[22, 44, 66, 88, 110, 132, 154]"
      ]
     },
     "execution_count": 13,
     "metadata": {},
     "output_type": "execute_result"
    }
   ],
   "source": [
    "l=[11,22,33,44,55,66,77]\n",
    "[2*x for x in l]\n"
   ]
  },
  {
   "cell_type": "code",
   "execution_count": 15,
   "id": "7b067b3a-7d3c-4338-b8c7-76eafd51eeb9",
   "metadata": {},
   "outputs": [
    {
     "data": {
      "text/plain": [
       "[2, 4, 6, 8, 10]"
      ]
     },
     "execution_count": 15,
     "metadata": {},
     "output_type": "execute_result"
    }
   ],
   "source": [
    "l=[1,2,3,4,5,6,7,8,9,10]\n",
    "[x for x in l if x%2==0]"
   ]
  },
  {
   "cell_type": "code",
   "execution_count": 17,
   "id": "06204cf6-0b37-4452-9e3b-892d4a6d0a9d",
   "metadata": {},
   "outputs": [
    {
     "data": {
      "text/plain": [
       "[1, 3, 5, 7, 9]"
      ]
     },
     "execution_count": 17,
     "metadata": {},
     "output_type": "execute_result"
    }
   ],
   "source": [
    "l=[1,2,3,4,5,6,7,8,9,10]\n",
    "[x for x in l if x%2!=0]"
   ]
  },
  {
   "cell_type": "code",
   "execution_count": 19,
   "id": "c0b34427-38dc-4663-b3bd-1cc564fa1867",
   "metadata": {},
   "outputs": [
    {
     "data": {
      "text/plain": [
       "[48000.0, 60000, 80000, 54000.0]"
      ]
     },
     "execution_count": 19,
     "metadata": {},
     "output_type": "execute_result"
    }
   ],
   "source": [
    "l=[40000,60000,80000,45000]\n",
    "[(x*1.2 if x<=50000 else x )for x in l]\n"
   ]
  },
  {
   "cell_type": "markdown",
   "id": "722fdb81-4886-4dfc-983a-0f01e82227a8",
   "metadata": {},
   "source": [
    "#### Dictionary Comprehension"
   ]
  },
  {
   "cell_type": "code",
   "execution_count": 26,
   "id": "06055436-f8cb-44f3-a603-928246a8be35",
   "metadata": {},
   "outputs": [
    {
     "data": {
      "text/plain": [
       "{'Ram': 84.75, 'John': 71.5}"
      ]
     },
     "execution_count": 26,
     "metadata": {},
     "output_type": "execute_result"
    }
   ],
   "source": [
    "d1={'Ram':[70,71,98,100],'John':[56,98,67,65]}\n",
    "{k:sum(v)/len(v) for k,v in d1.items()}"
   ]
  },
  {
   "cell_type": "markdown",
   "id": "8a115c7c-f44b-49b3-bba9-6c01e5a2b01f",
   "metadata": {},
   "source": [
    "#### user defined function to compute average"
   ]
  },
  {
   "cell_type": "code",
   "execution_count": 31,
   "id": "a917eb52-4637-4692-8e35-9c0164dde9fb",
   "metadata": {},
   "outputs": [],
   "source": [
    "def mean_value(given_list):\n",
    "    total=sum(given_list)\n",
    "    average_value=total/len(given_list)\n",
    "    return average_value\n"
   ]
  },
  {
   "cell_type": "code",
   "execution_count": 33,
   "id": "03312c28-b018-474a-b689-96c9e746daff",
   "metadata": {},
   "outputs": [
    {
     "data": {
      "text/plain": [
       "25.0"
      ]
     },
     "execution_count": 33,
     "metadata": {},
     "output_type": "execute_result"
    }
   ],
   "source": [
    "l=[10,20,30,40]\n",
    "mean_value(l)"
   ]
  },
  {
   "cell_type": "code",
   "execution_count": 35,
   "id": "6e0454ae-06c1-47db-a930-72656526bbc3",
   "metadata": {},
   "outputs": [
    {
     "data": {
      "text/plain": [
       "5.5"
      ]
     },
     "execution_count": 35,
     "metadata": {},
     "output_type": "execute_result"
    }
   ],
   "source": [
    "l=[1,2,3,4,5,6,7,8,9,10]\n",
    "mean_value(l)"
   ]
  },
  {
   "cell_type": "code",
   "execution_count": 55,
   "id": "a822eef3-fd83-4397-8bbb-622e9e710ac8",
   "metadata": {},
   "outputs": [],
   "source": [
    "def goodmorning(name):\n",
    "    return (\"HELLO! \"+name+\" GOOD MORNING!\")"
   ]
  },
  {
   "cell_type": "code",
   "execution_count": 57,
   "id": "1bf0aa9a-d988-4b0b-a45f-c6ccc83a850f",
   "metadata": {},
   "outputs": [
    {
     "data": {
      "text/plain": [
       "'HELLO! varun GOOD MORNING!'"
      ]
     },
     "execution_count": 57,
     "metadata": {},
     "output_type": "execute_result"
    }
   ],
   "source": [
    "goodmorning(\"varun\")"
   ]
  },
  {
   "cell_type": "markdown",
   "id": "b87b1018-1b57-4b42-96fd-519b1f9e3f83",
   "metadata": {},
   "source": [
    "##### function with variable number of arguments"
   ]
  },
  {
   "cell_type": "code",
   "execution_count": 60,
   "id": "f199576a-c80d-4da2-ac2c-980f1187250a",
   "metadata": {},
   "outputs": [],
   "source": [
    "def avg(*n):\n",
    "    l=len(n)\n",
    "    ave=sum(n)/l\n",
    "    return ave"
   ]
  },
  {
   "cell_type": "code",
   "execution_count": 62,
   "id": "34355de8-bf5a-4443-b6ec-7552788ce344",
   "metadata": {},
   "outputs": [
    {
     "data": {
      "text/plain": [
       "30.0"
      ]
     },
     "execution_count": 62,
     "metadata": {},
     "output_type": "execute_result"
    }
   ],
   "source": [
    "avg(10,20,30,40,50)"
   ]
  },
  {
   "cell_type": "code",
   "execution_count": null,
   "id": "7c21f6ec-3e54-4500-9661-173cb61b17a2",
   "metadata": {},
   "outputs": [],
   "source": []
  }
 ],
 "metadata": {
  "kernelspec": {
   "display_name": "Python [conda env:base] *",
   "language": "python",
   "name": "conda-base-py"
  },
  "language_info": {
   "codemirror_mode": {
    "name": "ipython",
    "version": 3
   },
   "file_extension": ".py",
   "mimetype": "text/x-python",
   "name": "python",
   "nbconvert_exporter": "python",
   "pygments_lexer": "ipython3",
   "version": "3.12.7"
  }
 },
 "nbformat": 4,
 "nbformat_minor": 5
}
