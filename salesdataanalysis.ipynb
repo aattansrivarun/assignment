{
 "cells": [
  {
   "cell_type": "markdown",
   "id": "ef18368f-e661-45ab-b24a-f8c14c8697c9",
   "metadata": {},
   "source": [
    "#### sales data analysis"
   ]
  },
  {
   "cell_type": "code",
   "execution_count": 2,
   "id": "be251cc5-19aa-4d63-b721-e46cb1424cc8",
   "metadata": {},
   "outputs": [],
   "source": [
    "sales_data = {\n",
    "    \"ProductID\": [101, 102, 103, 104, 105, 106, 107, 108, 109, 110],\n",
    "    \"ProductName\": [\"Laptop\", \"Mouse\", \"Keyboard\", \"Monitor\", \"Chair\", \"Desk\", \"Webcam\", \"Headphones\", \"Printer\", \"Tablet\"],\n",
    "    \"Category\": [\"Electronics\", \"Accessories\", \"Accessories\", \"Electronics\", \"Furniture\", \"Furniture\", \"Electronics\", \"Accessories\", \"Electronics\", \"Electronics\"],\n",
    "    \"PriceRange\": [\"High\", \"Low\", \"Low\", \"Medium\", \"Medium\", \"Medium\", \"Low\", \"Low\", \"Medium\", \"High\"],\n",
    "    \"StockAvailable\": [15, 100, 75, 20, 10, 8, 50, 60, 25, 12],\n",
    "}"
   ]
  },
  {
   "cell_type": "code",
   "execution_count": 4,
   "id": "9f824c88-f307-4058-98c3-bc2ccdcf560f",
   "metadata": {},
   "outputs": [
    {
     "name": "stdout",
     "output_type": "stream",
     "text": [
      "ProductID {101, 102, 103, 104, 105, 106, 107, 108, 109, 110},/n\n",
      "ProductName {'Laptop', 'Webcam', 'Monitor', 'Tablet', 'Mouse', 'Headphones', 'Chair', 'Desk', 'Printer', 'Keyboard'},/n\n",
      "Category {'Electronics', 'Furniture', 'Accessories'},/n\n",
      "PriceRange {'High', 'Medium', 'Low'},/n\n",
      "StockAvailable {100, 8, 10, 75, 12, 15, 50, 20, 25, 60},/n\n"
     ]
    }
   ],
   "source": [
    "for k,v in sales_data.items():\n",
    "    print(k,set(v), end =',')\n",
    "    print('/n')"
   ]
  },
  {
   "cell_type": "code",
   "execution_count": 6,
   "id": "fd2bcb8f-dee1-442e-ad84-d006a0ddf36d",
   "metadata": {},
   "outputs": [],
   "source": [
    "reviews = {\n",
    "    \"Review1\": \"The product quality is excellent and delivery was prompt. The product functionality is versatile\",\n",
    "    \"Review2\": \"Good service but the packaging could have been better. The customer service has to improve\",\n",
    "    \"Review3\": \"The product works fine, but the customer support is not very helpful. I rate the product as excellent\",\n",
    "}"
   ]
  },
  {
   "cell_type": "code",
   "execution_count": 8,
   "id": "63d267e1-fbef-4d87-bc37-62ce063eae67",
   "metadata": {},
   "outputs": [
    {
     "data": {
      "text/plain": [
       "{'Review1': {'WordCount': 14,\n",
       "  'UniqueWords': ['and',\n",
       "   'is',\n",
       "   'the',\n",
       "   'product',\n",
       "   'functionality',\n",
       "   'delivery',\n",
       "   'versatile',\n",
       "   'excellent',\n",
       "   'quality',\n",
       "   'was',\n",
       "   'prompt']},\n",
       " 'Review2': {'WordCount': 15,\n",
       "  'UniqueWords': ['better',\n",
       "   'the',\n",
       "   'to',\n",
       "   'could',\n",
       "   'improve',\n",
       "   'has',\n",
       "   'customer',\n",
       "   'service',\n",
       "   'good',\n",
       "   'packaging',\n",
       "   'have',\n",
       "   'but',\n",
       "   'been']},\n",
       " 'Review3': {'WordCount': 18,\n",
       "  'UniqueWords': ['is',\n",
       "   'the',\n",
       "   'very',\n",
       "   'product',\n",
       "   'fine',\n",
       "   'i',\n",
       "   'customer',\n",
       "   'rate',\n",
       "   'as',\n",
       "   'works',\n",
       "   'support',\n",
       "   'not',\n",
       "   'but',\n",
       "   'excellent',\n",
       "   'helpful']}}"
      ]
     },
     "execution_count": 8,
     "metadata": {},
     "output_type": "execute_result"
    }
   ],
   "source": [
    "review_analysis = {}\n",
    "for key, review in reviews.items():\n",
    "    # Split the review into words\n",
    "    words = review.lower().replace('.', '').replace(',', '').split()\n",
    "    # Create a sub-dictionary with word count and unique words\n",
    "    review_analysis[key] = {\n",
    "        \"WordCount\": len(words),\n",
    "        \"UniqueWords\": list(set(words))\n",
    "    }\n",
    "\n",
    "review_analysis"
   ]
  },
  {
   "cell_type": "code",
   "execution_count": null,
   "id": "3999afdb-0170-4259-b575-c4f8ba806cbc",
   "metadata": {},
   "outputs": [],
   "source": []
  }
 ],
 "metadata": {
  "kernelspec": {
   "display_name": "Python [conda env:base] *",
   "language": "python",
   "name": "conda-base-py"
  },
  "language_info": {
   "codemirror_mode": {
    "name": "ipython",
    "version": 3
   },
   "file_extension": ".py",
   "mimetype": "text/x-python",
   "name": "python",
   "nbconvert_exporter": "python",
   "pygments_lexer": "ipython3",
   "version": "3.12.7"
  }
 },
 "nbformat": 4,
 "nbformat_minor": 5
}
